{
 "cells": [
  {
   "cell_type": "code",
   "execution_count": 1,
   "id": "514f1187",
   "metadata": {},
   "outputs": [
    {
     "name": "stdout",
     "output_type": "stream",
     "text": [
      "Requirement already satisfied: openai==1.3.5 in /Users/chuanbico/miniconda3/envs/vlsp/lib/python3.10/site-packages (1.3.5)\n",
      "Requirement already satisfied: anyio<4,>=3.5.0 in /Users/chuanbico/miniconda3/envs/vlsp/lib/python3.10/site-packages (from openai==1.3.5) (3.7.1)\n",
      "Requirement already satisfied: distro<2,>=1.7.0 in /Users/chuanbico/miniconda3/envs/vlsp/lib/python3.10/site-packages (from openai==1.3.5) (1.9.0)\n",
      "Requirement already satisfied: httpx<1,>=0.23.0 in /Users/chuanbico/miniconda3/envs/vlsp/lib/python3.10/site-packages (from openai==1.3.5) (0.24.1)\n",
      "Requirement already satisfied: pydantic<3,>=1.9.0 in /Users/chuanbico/miniconda3/envs/vlsp/lib/python3.10/site-packages (from openai==1.3.5) (2.11.7)\n",
      "Requirement already satisfied: tqdm>4 in /Users/chuanbico/miniconda3/envs/vlsp/lib/python3.10/site-packages (from openai==1.3.5) (4.67.1)\n",
      "Requirement already satisfied: typing-extensions<5,>=4.5 in /Users/chuanbico/miniconda3/envs/vlsp/lib/python3.10/site-packages (from openai==1.3.5) (4.14.1)\n",
      "Requirement already satisfied: idna>=2.8 in /Users/chuanbico/miniconda3/envs/vlsp/lib/python3.10/site-packages (from anyio<4,>=3.5.0->openai==1.3.5) (3.10)\n",
      "Requirement already satisfied: sniffio>=1.1 in /Users/chuanbico/miniconda3/envs/vlsp/lib/python3.10/site-packages (from anyio<4,>=3.5.0->openai==1.3.5) (1.3.1)\n",
      "Requirement already satisfied: exceptiongroup in /Users/chuanbico/miniconda3/envs/vlsp/lib/python3.10/site-packages (from anyio<4,>=3.5.0->openai==1.3.5) (1.3.0)\n",
      "Requirement already satisfied: certifi in /Users/chuanbico/miniconda3/envs/vlsp/lib/python3.10/site-packages (from httpx<1,>=0.23.0->openai==1.3.5) (2025.8.3)\n",
      "Requirement already satisfied: httpcore<0.18.0,>=0.15.0 in /Users/chuanbico/miniconda3/envs/vlsp/lib/python3.10/site-packages (from httpx<1,>=0.23.0->openai==1.3.5) (0.17.3)\n",
      "Requirement already satisfied: h11<0.15,>=0.13 in /Users/chuanbico/miniconda3/envs/vlsp/lib/python3.10/site-packages (from httpcore<0.18.0,>=0.15.0->httpx<1,>=0.23.0->openai==1.3.5) (0.14.0)\n",
      "Requirement already satisfied: annotated-types>=0.6.0 in /Users/chuanbico/miniconda3/envs/vlsp/lib/python3.10/site-packages (from pydantic<3,>=1.9.0->openai==1.3.5) (0.7.0)\n",
      "Requirement already satisfied: pydantic-core==2.33.2 in /Users/chuanbico/miniconda3/envs/vlsp/lib/python3.10/site-packages (from pydantic<3,>=1.9.0->openai==1.3.5) (2.33.2)\n",
      "Requirement already satisfied: typing-inspection>=0.4.0 in /Users/chuanbico/miniconda3/envs/vlsp/lib/python3.10/site-packages (from pydantic<3,>=1.9.0->openai==1.3.5) (0.4.1)\n",
      "Requirement already satisfied: python-dotenv in /Users/chuanbico/miniconda3/envs/vlsp/lib/python3.10/site-packages (1.1.1)\n"
     ]
    }
   ],
   "source": [
    "! pip install --upgrade openai==1.3.5\n",
    "! pip install python-dotenv"
   ]
  },
  {
   "cell_type": "code",
   "execution_count": 2,
   "id": "50236698",
   "metadata": {},
   "outputs": [],
   "source": [
    "import os\n",
    "import re\n",
    "import json\n",
    "import time\n",
    "import openai\n",
    "import dotenv\n",
    "from dotenv import load_dotenv\n",
    "from openai import OpenAI"
   ]
  },
  {
   "cell_type": "code",
   "execution_count": 7,
   "id": "4c12342c",
   "metadata": {},
   "outputs": [],
   "source": [
    "import json\n",
    "import os\n",
    "from dotenv import load_dotenv\n",
    "from openai import OpenAI\n",
    "from tqdm import tqdm\n",
    "\n",
    "# 1. Load API key từ file key.env\n",
    "load_dotenv()\n",
    "client = OpenAI(api_key=os.getenv(\"OPENAI_API_KEY\"))"
   ]
  },
  {
   "cell_type": "code",
   "execution_count": 8,
   "id": "8c7e1046",
   "metadata": {},
   "outputs": [],
   "source": [
    "# 2. Hàm gọi GPT để gán label cho một record\n",
    "def extract_json_list(text):\n",
    "    \"\"\"\n",
    "    Tìm và trả về JSON list đầu tiên trong chuỗi (ngay cả khi có bọc ```json)\n",
    "    \"\"\"\n",
    "    # Nếu được bọc trong ```json ``` thì loại bỏ\n",
    "    match = re.search(r\"```(?:json)?\\s*(\\[.*?\\])\\s*```\", text, re.DOTALL)\n",
    "    if match:\n",
    "        return match.group(1)\n",
    "\n",
    "    # Hoặc tìm JSON list thuần trong văn bản\n",
    "    match = re.search(r\"(\\[.*?\\])\", text, re.DOTALL)\n",
    "    if match:\n",
    "        return match.group(1)\n",
    "\n",
    "    raise ValueError(\"Không tìm thấy JSON list trong content GPT trả về.\")\n",
    "\n",
    "def label_options(record, model=\"gpt-4o\", temperature=0.0):\n",
    "    prompt = f\"\"\"\n",
    "Bạn là trợ lý AI, nhiệm vụ phân loại các phương án trả lời về thời lượng:\n",
    "- Input là JSON có fields \"context\", \"question\", \"options\" (là list các string)\n",
    "- Output chỉ trả về JSON list \"labels\" có cùng độ dài với \"options\", giá trị \"yes\" nếu option đúng mô tả thời lượng, ngược lại \"no\".\n",
    "- Các phương án trả lời có thể là thời gian thực tế hoặc ước lượng, không cần chính xác tuyệt đối.\n",
    "- Trong mỗi question, không được phép gán tất cả các labels là \"yes\" hoặc \"no\".\n",
    "\n",
    "Ví dụ:\n",
    "Input:\n",
    "{{\n",
    "  \"context\": \"Tôi đang sửa chữa chiếc xe đạp bị hỏng.\",\n",
    "  \"question\": \"Mất bao lâu để sửa chữa chiếc xe đạp?\",\n",
    "  \"options\": [\"30 phút\", \"1 tháng\", \"10 phút\", \"2 giờ\"]\n",
    "}}\n",
    "Output:\n",
    "[\"yes\", \"no\", \"yes\", \"yes\"]\n",
    "\n",
    "Bây giờ phân loại cho record sau:\n",
    "{json.dumps(record, ensure_ascii=False)}\n",
    "\"\"\"\n",
    "\n",
    "    response = client.chat.completions.create(\n",
    "        model=model,\n",
    "        messages=[\n",
    "            {\"role\": \"system\", \"content\": \"Bạn là trợ lý AI chuyên gán label yes/no.\"},\n",
    "            {\"role\": \"user\", \"content\": prompt}\n",
    "        ],\n",
    "        temperature=temperature,\n",
    "        max_tokens=100,\n",
    "    )\n",
    "\n",
    "    content = response.choices[0].message.content.strip()\n",
    "\n",
    "    try:\n",
    "        # Trích xuất phần JSON list hợp lệ\n",
    "        json_text = extract_json_list(content)\n",
    "        labels = json.loads(json_text)\n",
    "        assert isinstance(labels, list)\n",
    "        return labels\n",
    "    except Exception as e:\n",
    "        print(f\"[LỖI PARSE JSON] Content không hợp lệ:\\n{content}\")\n",
    "        raise e\n"
   ]
  },
  {
   "cell_type": "code",
   "execution_count": 9,
   "id": "c7881186",
   "metadata": {},
   "outputs": [],
   "source": [
    "def main(input_path=\"public_test.txt\", output_path=\"public_test_gpt_4o.txt\"):\n",
    "    with open(input_path, \"r\", encoding=\"utf-8\") as fin, \\\n",
    "         open(output_path, \"w\", encoding=\"utf-8\") as fout:\n",
    "        for line in fin:\n",
    "            line = line.strip()\n",
    "            if not line:\n",
    "                continue\n",
    "            record = json.loads(line)\n",
    "            # Gọi GPT gán labels\n",
    "            try:\n",
    "                labels = label_options(record)\n",
    "            except Exception as e:\n",
    "                print(f\"Error when labeling QID={record.get('qid')}: {e}\")\n",
    "                # nếu lỗi, có thể thử chờ rồi gọi lại\n",
    "                time.sleep(5)\n",
    "                labels = label_options(record)\n",
    "            # Gắn thêm trường labels\n",
    "            record[\"labels\"] = labels\n",
    "            # Ghi ra file (mỗi dòng 1 JSON)\n",
    "            fout.write(json.dumps(record, ensure_ascii=False) + \"\\n\")\n",
    "            # tránh call quá nhanh\n",
    "            time.sleep(0.5)"
   ]
  },
  {
   "cell_type": "code",
   "execution_count": null,
   "id": "5edf8cb3",
   "metadata": {},
   "outputs": [],
   "source": [
    "if __name__ == \"__main__\":\n",
    "    main()\n",
    "    print(\"Hoàn thành!\")"
   ]
  }
 ],
 "metadata": {
  "kernelspec": {
   "display_name": "vlsp",
   "language": "python",
   "name": "python3"
  },
  "language_info": {
   "codemirror_mode": {
    "name": "ipython",
    "version": 3
   },
   "file_extension": ".py",
   "mimetype": "text/x-python",
   "name": "python",
   "nbconvert_exporter": "python",
   "pygments_lexer": "ipython3",
   "version": "3.10.18"
  }
 },
 "nbformat": 4,
 "nbformat_minor": 5
}
