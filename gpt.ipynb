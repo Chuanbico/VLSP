{
 "cells": [
  {
   "cell_type": "code",
   "execution_count": null,
   "id": "514f1187",
   "metadata": {},
   "outputs": [],
   "source": [
    "import os\n",
    "import json\n",
    "import time\n",
    "import openai"
   ]
  },
  {
   "cell_type": "code",
   "execution_count": null,
   "id": "4c12342c",
   "metadata": {},
   "outputs": [],
   "source": [
    "# 1. Cấu hình API key (hoặc đặt biến môi trường OPENAI_API_KEY)\n",
    "openai.api_key = os.getenv(\"OPENAI_API_KEY\", \"sk-...\")"
   ]
  },
  {
   "cell_type": "code",
   "execution_count": null,
   "id": "8c7e1046",
   "metadata": {},
   "outputs": [],
   "source": [
    "# 2. Hàm gọi GPT để gán label cho một record\n",
    "def label_options(record, model=\"gpt-4\", temperature=0.0):\n",
    "    prompt = f\"\"\"\n",
    "Bạn là trợ lý AI, nhiệm vụ phân loại các phương án trả lời về thời lượng:\n",
    "- Input là JSON có fields \"context\", \"question\", \"options\" (là list các string)\n",
    "- Output chỉ trả về JSON list \"labels\" có cùng độ dài với \"options\", giá trị \"yes\" nếu option đúng mô tả thời lượng, ngược lại \"no\".\n",
    "\n",
    "Ví dụ:\n",
    "Input:\n",
    "{{\n",
    "  \"context\": \"Tôi đang sửa chữa chiếc xe đạp bị hỏng.\",\n",
    "  \"question\": \"Mất bao lâu để sửa chữa chiếc xe đạp?\",\n",
    "  \"options\": [\"30 phút\", \"1 tháng\", \"10 phút\", \"2 giờ\"]\n",
    "}}\n",
    "Output:\n",
    "[\"yes\", \"no\", \"yes\", \"yes\"]\n",
    "\n",
    "Bây giờ phân loại cho record sau:\n",
    "{json.dumps(record, ensure_ascii=False)}\n",
    "\"\"\"\n",
    "    resp = openai.ChatCompletion.create(\n",
    "        model=model,\n",
    "        messages=[{\"role\":\"system\",\"content\":\"Bạn là trợ lý AI chuyên gán label yes/no.\"},\n",
    "                  {\"role\":\"user\",\"content\":prompt}],\n",
    "        temperature=temperature,\n",
    "        max_tokens=100,\n",
    "    )\n",
    "    # GPT trả về content là dạng JSON list\n",
    "    labels = json.loads(resp.choices[0].message.content.strip())\n",
    "    return labels"
   ]
  },
  {
   "cell_type": "code",
   "execution_count": null,
   "id": "c7881186",
   "metadata": {},
   "outputs": [],
   "source": [
    "def main(input_path=\"public_test.txt\", output_path=\"labeled_test.txt\"):\n",
    "    with open(input_path, \"r\", encoding=\"utf-8\") as fin, \\\n",
    "         open(output_path, \"w\", encoding=\"utf-8\") as fout:\n",
    "        for line in fin:\n",
    "            line = line.strip()\n",
    "            if not line:\n",
    "                continue\n",
    "            record = json.loads(line)\n",
    "            # Gọi GPT gán labels\n",
    "            try:\n",
    "                labels = label_options(record)\n",
    "            except Exception as e:\n",
    "                print(f\"Error when labeling QID={record.get('qid')}: {e}\")\n",
    "                # nếu lỗi, có thể thử chờ rồi gọi lại\n",
    "                time.sleep(5)\n",
    "                labels = label_options(record)\n",
    "            # Gắn thêm trường labels\n",
    "            record[\"labels\"] = labels\n",
    "            # Ghi ra file (mỗi dòng 1 JSON)\n",
    "            fout.write(json.dumps(record, ensure_ascii=False) + \"\\n\")\n",
    "            # tránh call quá nhanh\n",
    "            time.sleep(0.5)"
   ]
  },
  {
   "cell_type": "code",
   "execution_count": null,
   "id": "5edf8cb3",
   "metadata": {},
   "outputs": [],
   "source": [
    "if __name__ == \"__main__\":\n",
    "    main()\n",
    "    print(\"Hoàn thành! Kết quả nằm ở labeled_test.txt\")"
   ]
  }
 ],
 "metadata": {
  "language_info": {
   "name": "python"
  }
 },
 "nbformat": 4,
 "nbformat_minor": 5
}
