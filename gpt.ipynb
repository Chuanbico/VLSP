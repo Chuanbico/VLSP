{
 "cells": [
  {
   "cell_type": "code",
   "execution_count": 26,
   "id": "514f1187",
   "metadata": {},
   "outputs": [
    {
     "name": "stdout",
     "output_type": "stream",
     "text": [
      "\u001b[2K\u001b[2mResolved \u001b[1m16 packages\u001b[0m \u001b[2min 637ms\u001b[0m\u001b[0m                                        \u001b[0m\n",
      "\u001b[2K\u001b[37m⠙\u001b[0m \u001b[2mPreparing packages...\u001b[0m (0/2)                                                   \n",
      "\u001b[2K\u001b[1A\u001b[37m⠙\u001b[0m \u001b[2mPreparing packages...\u001b[0m (0/2)--------------\u001b[0m\u001b[0m     0 B/215.62 KiB          \u001b[1A\n",
      "\u001b[2K\u001b[1A\u001b[37m⠙\u001b[0m \u001b[2mPreparing packages...\u001b[0m (0/2)--------------\u001b[0m\u001b[0m     0 B/215.62 KiB          \u001b[1A\n",
      "\u001b[2manyio               \u001b[0m \u001b[32m\u001b[2m------------------------------\u001b[0m\u001b[0m     0 B/79.00 KiB\n",
      "\u001b[2K\u001b[2A\u001b[37m⠙\u001b[0m \u001b[2mPreparing packages...\u001b[0m (0/2)--------------\u001b[0m\u001b[0m     0 B/215.62 KiB          \u001b[2A\n",
      "\u001b[2manyio               \u001b[0m \u001b[32m------\u001b[2m------------------------\u001b[0m\u001b[0m 14.93 KiB/79.00 KiB\n",
      "\u001b[2K\u001b[2A\u001b[37m⠙\u001b[0m \u001b[2mPreparing packages...\u001b[0m (0/2)--------------\u001b[0m\u001b[0m     0 B/215.62 KiB          \u001b[2A\n",
      "\u001b[2manyio               \u001b[0m \u001b[32m------------\u001b[2m------------------\u001b[0m\u001b[0m 30.93 KiB/79.00 KiB\n",
      "\u001b[2K\u001b[2A\u001b[37m⠙\u001b[0m \u001b[2mPreparing packages...\u001b[0m (0/2)--------------\u001b[0m\u001b[0m     0 B/215.62 KiB          \u001b[2A\n",
      "\u001b[2manyio               \u001b[0m \u001b[32m------------------\u001b[2m------------\u001b[0m\u001b[0m 46.93 KiB/79.00 KiB\n",
      "\u001b[2K\u001b[2A\u001b[37m⠙\u001b[0m \u001b[2mPreparing packages...\u001b[0m (0/2)--------------\u001b[0m\u001b[0m     0 B/215.62 KiB          \u001b[2A\n",
      "\u001b[2manyio               \u001b[0m \u001b[32m------------------\u001b[2m------------\u001b[0m\u001b[0m 46.93 KiB/79.00 KiB\n",
      "\u001b[2K\u001b[2A\u001b[37m⠙\u001b[0m \u001b[2mPreparing packages...\u001b[0m (0/2)--------------\u001b[0m\u001b[0m 2.72 KiB/215.62 KiB         \u001b[2A\n",
      "\u001b[2manyio               \u001b[0m \u001b[32m-------------------\u001b[2m-----------\u001b[0m\u001b[0m 49.03 KiB/79.00 KiB\n",
      "\u001b[2K\u001b[2A\u001b[37m⠙\u001b[0m \u001b[2mPreparing packages...\u001b[0m (0/2)--------------\u001b[0m\u001b[0m 2.72 KiB/215.62 KiB         \u001b[2A\n",
      "\u001b[2manyio               \u001b[0m \u001b[32m---------------------\u001b[2m---------\u001b[0m\u001b[0m 54.49 KiB/79.00 KiB\n",
      "\u001b[2K\u001b[2A\u001b[37m⠙\u001b[0m \u001b[2mPreparing packages...\u001b[0m (0/2)--------------\u001b[0m\u001b[0m 2.72 KiB/215.62 KiB         \u001b[2A\n",
      "\u001b[2manyio               \u001b[0m \u001b[32m---------------------\u001b[2m---------\u001b[0m\u001b[0m 54.49 KiB/79.00 KiB\n",
      "\u001b[2K\u001b[2A\u001b[37m⠙\u001b[0m \u001b[2mPreparing packages...\u001b[0m (0/2)--------------\u001b[0m\u001b[0m 8.17 KiB/215.62 KiB         \u001b[2A\n",
      "\u001b[2manyio               \u001b[0m \u001b[32m-------------------------\u001b[2m-----\u001b[0m\u001b[0m 65.40 KiB/79.00 KiB\n",
      "\u001b[2K\u001b[2A\u001b[37m⠙\u001b[0m \u001b[2mPreparing packages...\u001b[0m (0/2)--------------\u001b[0m\u001b[0m 8.17 KiB/215.62 KiB         \u001b[2A\n",
      "\u001b[2manyio               \u001b[0m \u001b[32m-------------------------\u001b[2m-----\u001b[0m\u001b[0m 65.40 KiB/79.00 KiB\n",
      "\u001b[2K\u001b[2A\u001b[37m⠙\u001b[0m \u001b[2mPreparing packages...\u001b[0m (0/2)--------------\u001b[0m\u001b[0m 19.09 KiB/215.62 KiB        \u001b[2A\n",
      "\u001b[2manyio               \u001b[0m \u001b[32m------------------------------\u001b[2m\u001b[0m\u001b[0m 79.00 KiB/79.00 KiB\n",
      "\u001b[2K\u001b[2A\u001b[37m⠙\u001b[0m \u001b[2mPreparing packages...\u001b[0m (0/2)--------------\u001b[0m\u001b[0m 19.09 KiB/215.62 KiB        \u001b[2A\n",
      "\u001b[2K\u001b[1A\u001b[37m⠙\u001b[0m \u001b[2mPreparing packages...\u001b[0m (0/2)--------------\u001b[0m\u001b[0m 19.09 KiB/215.62 KiB        \u001b[1A\n",
      "\u001b[2K\u001b[1A\u001b[37m⠙\u001b[0m \u001b[2mPreparing packages...\u001b[0m (0/2)--------------\u001b[0m\u001b[0m 32.00 KiB/215.62 KiB        \u001b[1A\n",
      "\u001b[2K\u001b[1A\u001b[37m⠙\u001b[0m \u001b[2mPreparing packages...\u001b[0m (0/2)--------------\u001b[0m\u001b[0m 48.00 KiB/215.62 KiB        \u001b[1A\n",
      "\u001b[2K\u001b[1A\u001b[37m⠙\u001b[0m \u001b[2mPreparing packages...\u001b[0m (0/2)--------------\u001b[0m\u001b[0m 64.00 KiB/215.62 KiB        \u001b[1A\n",
      "\u001b[2K\u001b[1A\u001b[37m⠙\u001b[0m \u001b[2mPreparing packages...\u001b[0m (0/2)--------------\u001b[0m\u001b[0m 80.00 KiB/215.62 KiB        \u001b[1A\n",
      "\u001b[2K\u001b[1A\u001b[37m⠙\u001b[0m \u001b[2mPreparing packages...\u001b[0m (0/2)--------------\u001b[0m\u001b[0m 96.00 KiB/215.62 KiB        \u001b[1A\n",
      "\u001b[2K\u001b[1A\u001b[37m⠙\u001b[0m \u001b[2mPreparing packages...\u001b[0m (0/2)--------------\u001b[0m\u001b[0m 112.00 KiB/215.62 KiB       \u001b[1A\n",
      "\u001b[2K\u001b[1A\u001b[37m⠹\u001b[0m \u001b[2mPreparing packages...\u001b[0m (1/2)2m------------\u001b[0m\u001b[0m 128.00 KiB/215.62 KiB       \u001b[1A\n",
      "\u001b[2K\u001b[2mPrepared \u001b[1m2 packages\u001b[0m \u001b[2min 218ms\u001b[0m\u001b[0m                                                 \u001b[1A\n",
      "\u001b[2mUninstalled \u001b[1m2 packages\u001b[0m \u001b[2min 4ms\u001b[0m\u001b[0m\n",
      "\u001b[2K\u001b[2mInstalled \u001b[1m2 packages\u001b[0m \u001b[2min 4ms\u001b[0m\u001b[0m                                 \u001b[0m\n",
      " \u001b[31m-\u001b[39m \u001b[1manyio\u001b[0m\u001b[2m==4.9.0\u001b[0m\n",
      " \u001b[32m+\u001b[39m \u001b[1manyio\u001b[0m\u001b[2m==3.7.1\u001b[0m\n",
      " \u001b[31m-\u001b[39m \u001b[1mopenai\u001b[0m\u001b[2m==1.98.0\u001b[0m\n",
      " \u001b[32m+\u001b[39m \u001b[1mopenai\u001b[0m\u001b[2m==1.3.5\u001b[0m\n",
      "\u001b[2K\u001b[2mResolved \u001b[1m1 package\u001b[0m \u001b[2min 166ms\u001b[0m\u001b[0m                                          \u001b[0m\n",
      "\u001b[2K\u001b[2mInstalled \u001b[1m1 package\u001b[0m \u001b[2min 3ms\u001b[0m\u001b[0m1                                 \u001b[0m\n",
      " \u001b[32m+\u001b[39m \u001b[1mpython-dotenv\u001b[0m\u001b[2m==1.1.1\u001b[0m\n"
     ]
    }
   ],
   "source": [
    "!uv pip install openai==1.3.5\n",
    "!uv pip install python-dotenv"
   ]
  },
  {
   "cell_type": "code",
   "execution_count": 28,
   "id": "50236698",
   "metadata": {},
   "outputs": [],
   "source": [
    "import os\n",
    "import re\n",
    "import json\n",
    "import time\n",
    "import openai\n",
    "import dotenv\n",
    "from dotenv import load_dotenv\n",
    "from openai import OpenAI"
   ]
  },
  {
   "cell_type": "code",
   "execution_count": 29,
   "id": "4c12342c",
   "metadata": {},
   "outputs": [],
   "source": [
    "load_dotenv()\n",
    "client = OpenAI(api_key=os.getenv(\"OPENAI_API_KEY\"))"
   ]
  },
  {
   "cell_type": "code",
   "execution_count": 30,
   "id": "8c7e1046",
   "metadata": {},
   "outputs": [],
   "source": [
    "# 2. Hàm gọi GPT để gán label cho một record\n",
    "def extract_json_list(text):\n",
    "    \"\"\"\n",
    "    Tìm và trả về JSON list đầu tiên trong chuỗi (ngay cả khi có bọc ```json)\n",
    "    \"\"\"\n",
    "    # Nếu được bọc trong ```json ``` thì loại bỏ\n",
    "    match = re.search(r\"```(?:json)?\\s*(\\[.*?\\])\\s*```\", text, re.DOTALL)\n",
    "    if match:\n",
    "        return match.group(1)\n",
    "\n",
    "    # Hoặc tìm JSON list thuần trong văn bản\n",
    "    match = re.search(r\"(\\[.*?\\])\", text, re.DOTALL)\n",
    "    if match:\n",
    "        return match.group(1)\n",
    "\n",
    "    raise ValueError(\"Không tìm thấy JSON list trong content GPT trả về.\")\n",
    "\n",
    "def label_options(record, model=\"gpt-4o\", temperature=0.0):\n",
    "    prompt = f\"\"\"\n",
    "Bạn là trợ lý AI, nhiệm vụ phân loại các phương án trả lời về thời lượng:\n",
    "- Input là JSON có fields \"context\", \"question\", \"options\" (là list các string)\n",
    "- Output chỉ trả về JSON list \"labels\" có cùng độ dài với \"options\", giá trị \"yes\" nếu option đúng mô tả thời lượng, ngược lại \"no\".\n",
    "\n",
    "Ví dụ:\n",
    "Input:\n",
    "{{\n",
    "  \"context\": \"Tôi đang sửa chữa chiếc xe đạp bị hỏng.\",\n",
    "  \"question\": \"Mất bao lâu để sửa chữa chiếc xe đạp?\",\n",
    "  \"options\": [\"30 phút\", \"1 tháng\", \"10 phút\", \"2 giờ\"]\n",
    "}}\n",
    "Output:\n",
    "[\"yes\", \"no\", \"yes\", \"yes\"]\n",
    "\n",
    "Bây giờ phân loại cho record sau:\n",
    "{json.dumps(record, ensure_ascii=False)}\n",
    "\"\"\"\n",
    "\n",
    "    response = client.chat.completions.create(\n",
    "        model=model,\n",
    "        messages=[\n",
    "            {\"role\": \"system\", \"content\": \"Bạn là trợ lý AI chuyên gán label yes/no.\"},\n",
    "            {\"role\": \"user\", \"content\": prompt}\n",
    "        ],\n",
    "        temperature=temperature,\n",
    "        max_tokens=100,\n",
    "    )\n",
    "\n",
    "    content = response.choices[0].message.content.strip()\n",
    "\n",
    "    try:\n",
    "        # Trích xuất phần JSON list hợp lệ\n",
    "        json_text = extract_json_list(content)\n",
    "        labels = json.loads(json_text)\n",
    "        assert isinstance(labels, list)\n",
    "        return labels\n",
    "    except Exception as e:\n",
    "        print(f\"[LỖI PARSE JSON] Content không hợp lệ:\\n{content}\")\n",
    "        raise e\n"
   ]
  },
  {
   "cell_type": "code",
   "execution_count": null,
   "id": "c7881186",
   "metadata": {},
   "outputs": [],
   "source": [
    "def main(input_path=\"public_test.txt\", output_path=\"public_test_gpt_4o.txt\"):\n",
    "    with open(input_path, \"r\", encoding=\"utf-8\") as fin, \\\n",
    "         open(output_path, \"w\", encoding=\"utf-8\") as fout:\n",
    "        for line in fin:\n",
    "            line = line.strip()\n",
    "            if not line:\n",
    "                continue\n",
    "            record = json.loads(line)\n",
    "            # Gọi GPT gán labels\n",
    "            try:\n",
    "                labels = label_options(record)\n",
    "            except Exception as e:\n",
    "                print(f\"Error when labeling QID={record.get('qid')}: {e}\")\n",
    "                # nếu lỗi, có thể thử chờ rồi gọi lại\n",
    "                time.sleep(5)\n",
    "                labels = label_options(record)\n",
    "            # Gắn thêm trường labels\n",
    "            record[\"labels\"] = labels\n",
    "            # Ghi ra file (mỗi dòng 1 JSON)\n",
    "            fout.write(json.dumps(record, ensure_ascii=False) + \"\\n\")\n",
    "            # tránh call quá nhanh\n",
    "            time.sleep(0.5)"
   ]
  },
  {
   "cell_type": "code",
   "execution_count": null,
   "id": "5edf8cb3",
   "metadata": {},
   "outputs": [
    {
     "ename": "KeyboardInterrupt",
     "evalue": "",
     "output_type": "error",
     "traceback": [
      "\u001b[0;31m---------------------------------------------------------------------------\u001b[0m",
      "\u001b[0;31mKeyboardInterrupt\u001b[0m                         Traceback (most recent call last)",
      "Cell \u001b[0;32mIn[32], line 2\u001b[0m\n\u001b[1;32m      1\u001b[0m \u001b[38;5;28;01mif\u001b[39;00m \u001b[38;5;18m__name__\u001b[39m \u001b[38;5;241m==\u001b[39m \u001b[38;5;124m\"\u001b[39m\u001b[38;5;124m__main__\u001b[39m\u001b[38;5;124m\"\u001b[39m:\n\u001b[0;32m----> 2\u001b[0m     \u001b[43mmain\u001b[49m\u001b[43m(\u001b[49m\u001b[43m)\u001b[49m\n\u001b[1;32m      3\u001b[0m     \u001b[38;5;28mprint\u001b[39m(\u001b[38;5;124m\"\u001b[39m\u001b[38;5;124mHoàn thành! Kết quả nằm ở labeled_test.txt\u001b[39m\u001b[38;5;124m\"\u001b[39m)\n",
      "Cell \u001b[0;32mIn[31], line 22\u001b[0m, in \u001b[0;36mmain\u001b[0;34m(input_path, output_path)\u001b[0m\n\u001b[1;32m     20\u001b[0m fout\u001b[38;5;241m.\u001b[39mwrite(json\u001b[38;5;241m.\u001b[39mdumps(record, ensure_ascii\u001b[38;5;241m=\u001b[39m\u001b[38;5;28;01mFalse\u001b[39;00m) \u001b[38;5;241m+\u001b[39m \u001b[38;5;124m\"\u001b[39m\u001b[38;5;130;01m\\n\u001b[39;00m\u001b[38;5;124m\"\u001b[39m)\n\u001b[1;32m     21\u001b[0m \u001b[38;5;66;03m# tránh call quá nhanh\u001b[39;00m\n\u001b[0;32m---> 22\u001b[0m \u001b[43mtime\u001b[49m\u001b[38;5;241;43m.\u001b[39;49m\u001b[43msleep\u001b[49m\u001b[43m(\u001b[49m\u001b[38;5;241;43m0.5\u001b[39;49m\u001b[43m)\u001b[49m\n",
      "\u001b[0;31mKeyboardInterrupt\u001b[0m: "
     ]
    }
   ],
   "source": [
    "if __name__ == \"__main__\":\n",
    "    main()\n",
    "    print(\"Hoàn thành!\")"
   ]
  }
 ],
 "metadata": {
  "language_info": {
   "name": "python"
  }
 },
 "nbformat": 4,
 "nbformat_minor": 5
}
